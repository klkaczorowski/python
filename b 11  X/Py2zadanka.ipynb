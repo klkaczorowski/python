{
 "cells": [
  {
   "cell_type": "markdown",
   "metadata": {},
   "source": [
    "2.policz ile to złotych: 9 monet 5 złotowych, 12 dwuzłotowe i 8 złotówek"
   ]
  },
  {
   "cell_type": "markdown",
   "metadata": {},
   "source": [
    "3oblicz wartość przyszłą inwestycji zakładając, że kwota wynosi 100000, \n",
    "oprocentowanie roczne 3.5 procent, liczba lat wynosi 7"
   ]
  },
  {
   "cell_type": "markdown",
   "metadata": {},
   "source": [
    "4.inicjalizuj zmienne: nazwisko, imię, nr_albumu\n",
    "oblicz wartość zmiennej login zgodnie z regułami w SGH (inicjały oraz numer albumu)\n",
    "wydrukuj informacje zawierającą login, nazwiko i imię studenta oraz jego numer albumu"
   ]
  },
  {
   "cell_type": "markdown",
   "metadata": {},
   "source": [
    "\n",
    "5.wczytaj kurs dolara amerykańskiego \n",
    "wprowadź swoje imię i ilość dolarów (co do centa)\n",
    "wydrukuj wynik w formacie: Stefan ma 30.0 dolarów i może za nie uzyskać .... złotych"
   ]
  },
  {
   "cell_type": "markdown",
   "metadata": {},
   "source": [
    "*6. Napisz program program wczytujący liczbę całkowitą (n) i obliczającą wartość  n+nn+nnn"
   ]
  }
 ],
 "metadata": {
  "kernelspec": {
   "display_name": "Python 3 (ipykernel)",
   "language": "python",
   "name": "python3"
  },
  "language_info": {
   "codemirror_mode": {
    "name": "ipython",
    "version": 3
   },
   "file_extension": ".py",
   "mimetype": "text/x-python",
   "name": "python",
   "nbconvert_exporter": "python",
   "pygments_lexer": "ipython3",
   "version": "3.11.4"
  }
 },
 "nbformat": 4,
 "nbformat_minor": 2
}
