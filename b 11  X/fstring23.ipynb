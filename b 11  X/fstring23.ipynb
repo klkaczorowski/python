{
 "cells": [
  {
   "cell_type": "markdown",
   "metadata": {},
   "source": [
    "# f\"\""
   ]
  },
  {
   "cell_type": "code",
   "execution_count": 3,
   "metadata": {},
   "outputs": [
    {
     "data": {
      "text/plain": [
       "'3 po 4 to jest 12'"
      ]
     },
     "execution_count": 3,
     "metadata": {},
     "output_type": "execute_result"
    }
   ],
   "source": [
    "f\"{cz1} po {cz2} to jest {cz1*cz2}\""
   ]
  },
  {
   "cell_type": "code",
   "execution_count": 4,
   "metadata": {},
   "outputs": [
    {
     "data": {
      "text/plain": [
       "'Witaj Anna w naszym kręgu przyjaciół'"
      ]
     },
     "execution_count": 4,
     "metadata": {},
     "output_type": "execute_result"
    }
   ],
   "source": [
    "ktoś = 'Anna'\n",
    "f'Witaj {ktoś} w naszym kręgu przyjaciół'"
   ]
  },
  {
   "cell_type": "code",
   "execution_count": 5,
   "metadata": {},
   "outputs": [
    {
     "name": "stdout",
     "output_type": "stream",
     "text": [
      "n = 4\n"
     ]
    }
   ],
   "source": [
    "n = 4\n",
    "print(f'{n = }')"
   ]
  },
  {
   "cell_type": "code",
   "execution_count": 6,
   "metadata": {},
   "outputs": [
    {
     "name": "stdout",
     "output_type": "stream",
     "text": [
      "math.cos(x) = 0.6967067093471654\n",
      "math.sin(x) = 0.7173560908995228\n"
     ]
    }
   ],
   "source": [
    "# = samoobjaśnienie (dostępne od wersji 3.8)\n",
    "import math\n",
    "\n",
    "x = 0.8\n",
    "\n",
    "print(f'{math.cos(x) = }')\n",
    "print(f'{math.sin(x) = }')"
   ]
  },
  {
   "cell_type": "code",
   "execution_count": 7,
   "metadata": {},
   "outputs": [
    {
     "name": "stdout",
     "output_type": "stream",
     "text": [
      "01   1    1\n",
      "02   4    8\n",
      "03   9   27\n",
      "04  16   64\n",
      "05  25  125\n",
      "06  36  216\n",
      "07  49  343\n",
      "08  64  512\n",
      "09  81  729\n",
      "10 100 1000\n"
     ]
    }
   ],
   "source": [
    "#specyfikacja długości \n",
    "for x in range(1, 11):\n",
    "    print(f'{x:02} {x*x:3} {x*x*x:4}')"
   ]
  },
  {
   "cell_type": "code",
   "execution_count": 8,
   "metadata": {},
   "outputs": [
    {
     "name": "stdout",
     "output_type": "stream",
     "text": [
      "12.30\n",
      "12.30000\n"
     ]
    }
   ],
   "source": [
    "# formatowanie liczb zmienno przecinkowych\n",
    "# po dwukroku długość.precyzjaf\n",
    "w = 12.3\n",
    "\n",
    "print(f'{w:.2f}')\n",
    "print(f'{w:.5f}')"
   ]
  },
  {
   "cell_type": "code",
   "execution_count": null,
   "metadata": {},
   "outputs": [],
   "source": [
    "# wyrażenia liczbowe\n",
    "a = 400\n",
    "\n",
    "# szestnastkowa\n",
    "print(f\"{a:x}\")\n",
    "\n",
    "# oktalna\n",
    "print(f\"{a:o}\")\n",
    "\n",
    "# naukowa\n",
    "print(f\"{a:e}\")"
   ]
  },
  {
   "cell_type": "raw",
   "metadata": {},
   "source": [
    "#wyrównywanie tekstu\n",
    "s1 = 'a'\n",
    "s2 = 'ab'\n",
    "s3 = 'abc'\n",
    "s4 = 'abcd'\n",
    "\n",
    "print(f'{s1:>10}')\n",
    "print(f'{s2:>10}')\n",
    "print(f'{s3:>10}')\n",
    "print(f'{s4:>10}')"
   ]
  },
  {
   "cell_type": "code",
   "execution_count": null,
   "metadata": {},
   "outputs": [],
   "source": [
    "# przykład użycia słownika\n",
    "pracownik = {'nazwa': 'Jan Nowak', 'stanowisko': 'ogrodnik'}\n",
    "\n",
    "print(f\"{pracownik['nazwa']} pracuje jako {pracownik['stanowisko']}\")"
   ]
  },
  {
   "cell_type": "code",
   "execution_count": null,
   "metadata": {},
   "outputs": [],
   "source": [
    "# kilkuliniowy format\n",
    "nazwa = 'Jan Nowak'\n",
    "lat = 32\n",
    "stanowisko = 'ogrodnik'\n",
    "\n",
    "komunikat = (\n",
    "    f'nazwa: {nazwa}\\n'\n",
    "    f'lat: {lat}\\n'\n",
    "    f'pracuje jako: {stanowisko}'\n",
    ")\n",
    "\n",
    "print(komunikat)"
   ]
  },
  {
   "cell_type": "code",
   "execution_count": null,
   "metadata": {},
   "outputs": [],
   "source": [
    "# wywołanie funkcji\n",
    "tekst = 'Dajcie mi coś do zjedzenia.'\n",
    "f\"Tekst:'{tekst}' sklada się z {len(tekst)} znaków\"  # w nawiasach klamrowych można wywoływać funkcje"
   ]
  },
  {
   "cell_type": "code",
   "execution_count": null,
   "metadata": {},
   "outputs": [],
   "source": [
    "# drukowanie nawiasów klamrowych\n",
    "print(f'Python używa {{}} do obliczenia warttości zmiennych w wyrażeniach formatujących')\n",
    "# aby wydrukować znak funkcyjny poprzedzamy go ukośnikiem\n",
    "print(f'Co za  \\'wspaniały\\' film')"
   ]
  },
  {
   "cell_type": "code",
   "execution_count": null,
   "metadata": {},
   "outputs": [],
   "source": [
    "# formatowanie (bieżącej) daty\n",
    "import datetime\n",
    "\n",
    "now = datetime.datetime.now()\n",
    "\n",
    "print(f'{now:%Y-%m-%d %H:%M}')"
   ]
  },
  {
   "cell_type": "code",
   "execution_count": null,
   "metadata": {},
   "outputs": [],
   "source": [
    "# ograniczenia F-string przed wersją 3.12"
   ]
  },
  {
   "attachments": {
    "image.png": {
     "image/png": "[encoded data removed]"
    }
   },
   "cell_type": "markdown",
   "metadata": {},
   "source": [
    "![image.png](attachment:image.png)"
   ]
  },
  {
   "cell_type": "code",
   "execution_count": 26,
   "metadata": {},
   "outputs": [],
   "source": [
    "pracownik = {\n",
    "     \"nazwisko\": \"Jan Nowak\",\n",
    "     \"wiek\": 35,\n",
    "     \"stanowisko\": \"programista Pythona\",\n",
    "}"
   ]
  },
  {
   "cell_type": "code",
   "execution_count": 30,
   "metadata": {},
   "outputs": [
    {
     "ename": "SyntaxError",
     "evalue": "f-string: unmatched '[' (2480010597.py, line 1)",
     "output_type": "error",
     "traceback": [
      "\u001b[1;36m  Cell \u001b[1;32mIn[30], line 1\u001b[1;36m\u001b[0m\n\u001b[1;33m    f\"Pracownik: {pracownik[\"nazwisko\"]}\"   # cudzysłowów nie można zagnieżdżać\u001b[0m\n\u001b[1;37m                             ^\u001b[0m\n\u001b[1;31mSyntaxError\u001b[0m\u001b[1;31m:\u001b[0m f-string: unmatched '['\n"
     ]
    }
   ],
   "source": [
    "f\"Pracownik: {pracownik[\"nazwisko\"]}\"   # cudzysłowów nie można zagnieżdżać"
   ]
  },
  {
   "cell_type": "code",
   "execution_count": 31,
   "metadata": {},
   "outputs": [
    {
     "data": {
      "text/plain": [
       "'Pracownik: Jan Nowak'"
      ]
     },
     "execution_count": 31,
     "metadata": {},
     "output_type": "execute_result"
    }
   ],
   "source": [
    "f\"Pracownik: {pracownik['nazwisko']}\"       # ale można użyć dwóchrodzajów cudzysłowów"
   ]
  },
  {
   "cell_type": "code",
   "execution_count": 4,
   "metadata": {},
   "outputs": [],
   "source": [
    "# \\ niedozwolony tylny ukośnik "
   ]
  },
  {
   "cell_type": "code",
   "execution_count": 35,
   "metadata": {},
   "outputs": [],
   "source": [
    "wyrazy = [\"Cześć!\", \"Ja\", \"jestem\", \"fanem\", \"Pythona!\", \"a TY?\"]"
   ]
  },
  {
   "cell_type": "code",
   "execution_count": 36,
   "metadata": {},
   "outputs": [
    {
     "ename": "SyntaxError",
     "evalue": "f-string expression part cannot include a backslash (2292888196.py, line 1)",
     "output_type": "error",
     "traceback": [
      "\u001b[1;36m  Cell \u001b[1;32mIn[36], line 1\u001b[1;36m\u001b[0m\n\u001b[1;33m    f\"{'\\n'.join(wyrazy)}\"\u001b[0m\n\u001b[1;37m                              ^\u001b[0m\n\u001b[1;31mSyntaxError\u001b[0m\u001b[1;31m:\u001b[0m f-string expression part cannot include a backslash\n"
     ]
    }
   ],
   "source": [
    "f\"{'\\n'.join(wyrazy)}\"    "
   ]
  },
  {
   "cell_type": "code",
   "execution_count": 37,
   "metadata": {},
   "outputs": [
    {
     "data": {
      "text/plain": [
       "'Cześć!\\nJa\\njestem\\nfanem\\nPythona!\\na TY?'"
      ]
     },
     "execution_count": 37,
     "metadata": {},
     "output_type": "execute_result"
    }
   ],
   "source": [
    "# ale to ograniczenie można obejść\n",
    "linie = \"\\n\".join(wyrazy)\n",
    "f\"{linie}\""
   ]
  },
  {
   "cell_type": "code",
   "execution_count": 39,
   "metadata": {},
   "outputs": [
    {
     "name": "stdout",
     "output_type": "stream",
     "text": [
      "Cześć!\n",
      "Ja\n",
      "jestem\n",
      "fanem\n",
      "Pythona!\n",
      "a TY?\n"
     ]
    }
   ],
   "source": [
    "# jeszcze lepszy wynik\n",
    "print(f\"{linie}\")"
   ]
  },
  {
   "cell_type": "code",
   "execution_count": 11,
   "metadata": {},
   "outputs": [],
   "source": [
    "# Nie można wstawiać komentarzy"
   ]
  },
  {
   "cell_type": "code",
   "execution_count": 40,
   "metadata": {},
   "outputs": [
    {
     "ename": "SyntaxError",
     "evalue": "f-string expression part cannot include '#' (458816591.py, line 8)",
     "output_type": "error",
     "traceback": [
      "\u001b[1;36m  Cell \u001b[1;32mIn[40], line 8\u001b[1;36m\u001b[0m\n\u001b[1;33m    }\"\"\"\u001b[0m\n\u001b[1;37m        ^\u001b[0m\n\u001b[1;31mSyntaxError\u001b[0m\u001b[1;31m:\u001b[0m f-string expression part cannot include '#'\n"
     ]
    }
   ],
   "source": [
    "pracownik = {\n",
    "     \"nazwisko\": \"Jan Nowak\",\n",
    "     \"wiek\": 35,\n",
    "     \"stanowisko\": \"programista Pythona\",\n",
    "}\n",
    "f\"\"\"Zapisywanie danych pracownika: {\n",
    "     pracownik['nazwisko'].upper()  # Zamień na wielkie znaki przed zapisaniem\n",
    "}\"\"\""
   ]
  },
  {
   "cell_type": "code",
   "execution_count": null,
   "metadata": {},
   "outputs": [],
   "source": [
    "# "
   ]
  },
  {
   "cell_type": "code",
   "execution_count": 41,
   "metadata": {},
   "outputs": [
    {
     "data": {
      "text/plain": [
       "'42'"
      ]
     },
     "execution_count": 41,
     "metadata": {},
     "output_type": "execute_result"
    }
   ],
   "source": [
    "#\n",
    "f\"\"\"{\n",
    "     f'''{\n",
    "         f\"{f'{42}'}\"\n",
    "     }'''\n",
    "}\"\"\""
   ]
  },
  {
   "cell_type": "code",
   "execution_count": 42,
   "metadata": {},
   "outputs": [
    {
     "ename": "SyntaxError",
     "evalue": "f-string: f-string: unterminated string (3938546818.py, line 3)",
     "output_type": "error",
     "traceback": [
      "\u001b[1;36m  Cell \u001b[1;32mIn[42], line 3\u001b[1;36m\u001b[0m\n\u001b[1;33m    f\"{f'{f\"{42}\"}'}\"\u001b[0m\n\u001b[1;37m       ^\u001b[0m\n\u001b[1;31mSyntaxError\u001b[0m\u001b[1;31m:\u001b[0m f-string: f-string: unterminated string\n"
     ]
    }
   ],
   "source": [
    "# błąd\n",
    "f\"\"\"{\n",
    "     f'''{\n",
    "         f\"{f'{f\"{42}\"}'}\"\n",
    "     }'''\n",
    "}\"\"\""
   ]
  },
  {
   "cell_type": "code",
   "execution_count": null,
   "metadata": {},
   "outputs": [],
   "source": []
  },
  {
   "cell_type": "markdown",
   "metadata": {},
   "source": [
    "# starsze sposoby formatowania łańcuchów znaków"
   ]
  },
  {
   "cell_type": "code",
   "execution_count": 43,
   "metadata": {},
   "outputs": [],
   "source": [
    "# .format()\n",
    "# wyrażenia formatujące %\n"
   ]
  },
  {
   "cell_type": "markdown",
   "metadata": {},
   "source": [
    "# metoda format"
   ]
  },
  {
   "cell_type": "code",
   "execution_count": 9,
   "metadata": {},
   "outputs": [
    {
     "data": {
      "text/plain": [
       "'Witaj Anna w naszym kręgu przyjaciół'"
      ]
     },
     "execution_count": 9,
     "metadata": {},
     "output_type": "execute_result"
    }
   ],
   "source": [
    "ktoś = 'Anna'\n",
    "'Witaj {} w naszym kręgu przyjaciół'.format(ktoś)"
   ]
  },
  {
   "cell_type": "code",
   "execution_count": 10,
   "metadata": {},
   "outputs": [
    {
     "data": {
      "text/plain": [
       "'Tytus, Romek i Atomek'"
      ]
     },
     "execution_count": 10,
     "metadata": {},
     "output_type": "execute_result"
    }
   ],
   "source": [
    "\"{0}, {1} i {2}\".format(\"Tytus\", \"Romek\", \"Atomek\")\n"
   ]
  },
  {
   "cell_type": "code",
   "execution_count": 11,
   "metadata": {},
   "outputs": [],
   "source": [
    "szablon = \"{0} i {1}\"   # wykorzystanie szablonu"
   ]
  },
  {
   "cell_type": "code",
   "execution_count": 12,
   "metadata": {},
   "outputs": [
    {
     "data": {
      "text/plain": [
       "'Bolek i Lolek'"
      ]
     },
     "execution_count": 12,
     "metadata": {},
     "output_type": "execute_result"
    }
   ],
   "source": [
    "szablon.format(\"Bolek\",\"Lolek\")"
   ]
  },
  {
   "cell_type": "code",
   "execution_count": 13,
   "metadata": {},
   "outputs": [
    {
     "data": {
      "text/plain": [
       "'Jacek i Agatka'"
      ]
     },
     "execution_count": 13,
     "metadata": {},
     "output_type": "execute_result"
    }
   ],
   "source": [
    "szablon.format(\"Jacek\",\"Agatka\")"
   ]
  },
  {
   "cell_type": "code",
   "execution_count": 14,
   "metadata": {},
   "outputs": [
    {
     "data": {
      "text/plain": [
       "'Najlepszy wynik Jacka = 001.230'"
      ]
     },
     "execution_count": 14,
     "metadata": {},
     "output_type": "execute_result"
    }
   ],
   "source": [
    "\"Najlepszy wynik {1:s} = {0:07.3f}\".format(1.23,\"Jacka\")"
   ]
  },
  {
   "cell_type": "markdown",
   "metadata": {},
   "source": [
    "# wyrażenia formatujące"
   ]
  },
  {
   "cell_type": "code",
   "execution_count": null,
   "metadata": {},
   "outputs": [],
   "source": [
    "# raczej przestarzałe"
   ]
  },
  {
   "cell_type": "code",
   "execution_count": null,
   "metadata": {},
   "outputs": [],
   "source": [
    "ktoś = 'Anna'\n",
    "'Witaj %s w naszym kręgu przyjaciół'%ktoś   "
   ]
  },
  {
   "cell_type": "code",
   "execution_count": null,
   "metadata": {},
   "outputs": [],
   "source": [
    "\"%+5i\" % 34  #wyrównywanie liczby całkowitej do prawej"
   ]
  },
  {
   "cell_type": "code",
   "execution_count": null,
   "metadata": {},
   "outputs": [],
   "source": [
    "\"%-4s\"  % \"as\"   #wyrównywanie łańcucha znaków do lewej"
   ]
  },
  {
   "cell_type": "code",
   "execution_count": null,
   "metadata": {},
   "outputs": [],
   "source": []
  }
 ],
 "metadata": {
  "kernelspec": {
   "display_name": "Python 3 (ipykernel)",
   "language": "python",
   "name": "python3"
  },
  "language_info": {
   "codemirror_mode": {
    "name": "ipython",
    "version": 3
   },
   "file_extension": ".py",
   "mimetype": "text/x-python",
   "name": "python",
   "nbconvert_exporter": "python",
   "pygments_lexer": "ipython3",
   "version": "3.11.4"
  }
 },
 "nbformat": 4,
 "nbformat_minor": 4
}
